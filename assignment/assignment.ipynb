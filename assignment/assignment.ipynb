{
  "cells": [
    {
      "cell_type": "markdown",
      "id": "13ad028b-72b7-43ed-aa78-96fd4e518040",
      "metadata": {
        "id": "13ad028b-72b7-43ed-aa78-96fd4e518040"
      },
      "source": [
        "# Assignment: Data Wrangling\n",
        "## `! git clone https://github.com/DS3001/wrangling`\n",
        "## Do Q2, and one of Q1 or Q3."
      ]
    },
    {
      "cell_type": "code",
      "source": [],
      "metadata": {
        "id": "xHpIW0kG2Jqe"
      },
      "id": "xHpIW0kG2Jqe",
      "execution_count": null,
      "outputs": []
    },
    {
      "cell_type": "markdown",
      "id": "5735a4d4-8be8-433a-a351-70eb8002e632",
      "metadata": {
        "id": "5735a4d4-8be8-433a-a351-70eb8002e632"
      },
      "source": [
        "**Q1.** Open the \"tidy_data.pdf\" document in the repo, which is a paper called Tidy Data by Hadley Wickham.\n",
        "\n",
        "  1. Read the abstract. What is this paper about?   \n",
        "\n",
        "  Wickham is focused on thinking more abstractly on the process of data cleaning, which most likely doesn't achive as much attention as it probably should. Removing NA's is an awesome thing, but beyond that, what should data look like in order to decide you're done cleaning? He introduces a criteria (each row is an observation, each column is a variable, each type of observational unit is a table) and explores the consequences\n",
        "\n",
        "\n",
        "  2. Read the introduction. What is the \"tidy data standard\" intended to accomplish?   \n",
        "     \n",
        "  Although data cleaning takes up a significant portion of data analysis, both in terms of time and mental effort, it remains an underexplored skill or task. The \"tidy data standard\" aims to streamline data cleaning by providing a consistent framework. This standard is designed to simplify the cleaning process by ensuring that everyone involved understands the goal and the typical steps needed to achieve it.\n",
        "\n",
        "  3. Read the intro to section 2. What does this sentence mean: \"Like families, tidy datasets are all alike but every messy dataset is messy in its own way.\" What does this sentence mean: \"For a given dataset, it’s usually easy to figure out what are observations and what are variables, but it is surprisingly difficult to precisely define variables and observations in general.\"  \n",
        "    \n",
        "  The first sentence highlights how messy, disorganized data tends to introduce unique or unexpected challenges, whereas clean data tends to be more uniform. You’ve likely encountered this before: the data's creator structured it for their own purposes or convenience, and reshaping it effectively in R can take a lot of work. This is a nod to a joke from Russian literature. The second sentence points out that while the concept of a \"data frame/matrix\" is straightforward — rows as observations, columns as variables — it’s often a choice that benefits the analyst if made thoughtfully. For instance, if you have county-level data by year, what exactly *is* your data? An observation is a county-year, a fact that may not be obvious to someone unfamiliar with this type of data, leading them to mistakenly treat a county as the observation and, in turn, make poor decisions when cleaning and structuring the data.  \n",
        "\n",
        "  4. Read Section 2.2. How does Wickham define values, variables, and observations?  \n",
        "    \n",
        "  A dataset consists of a set of values, which can be either numeric or categorical/strings. Each value is associated with both a variable and an observation. A variable represents a group of values that assess the same characteristic or property (e.g., height, color, temperature, make/model). An observation is a group of values that describe it.  \n",
        "\n",
        "  5. How is \"Tidy Data\" defined in section 2.3?  \n",
        "    \n",
        "  In tidy data, each variable is a column, each observation is a row, and each type of observational unit is a table. If data isn't tidy, it's messy.  \n",
        "  \n",
        "  6. Read the intro to Section 3 and Section 3.1. What are the 5 most common problems with messy datasets? Why are the data in Table 4 messy? What is \"melting\" a dataset?  \n",
        "\n",
        "    1. Column headers represent values (such as years) rather than variable names. For example, unemployment by county over time is shown as a matrix where the columns represent years and the rows represent counties. The column header is a numeric value, like 2012, rather than a variable name like \"Year.\" 2. Multiple variables are combined into a single column. For instance, month-day-year dates encompass three elements: month, day, and year. Time variables typically need to be transformed into another format, such as normalized to a \"day 0\" and measured by the number of days since then. 3. Variables can be stored in both rows and columns. 4. Different types of observational units are stored in the same table. For example, entrepreneurs/firms, children/parents, and workers/firms are all included in one large file instead of separate datasets for each group. 5. A single observational unit is split across multiple tables, leading to data being duplicated in a cumbersome way that requires further cleaning and simplification. In Table 4, the columns are actually values of a \"hidden\" variable, which is income. Since income is a variable, you need to create a new column for income, alongside religion and frequency, as shown in Table 6. Now, the columns represent variable names rather than the values those variables take. \"Melting\" a dataset refers to this process of converting column-value variables into rows.\n",
        "  7. Why, specifically, is table 11 messy but table 12 tidy and \"molten\"?\n",
        "\n",
        "  Table 11 presents days as values across the top. In Table 12, those days are reshaped into a single variable, date. However, this still isn't considered tidy, as the element variable holds variable names instead of values — tmax and tmin represent measurements for the same day, meaning they are variable names, not values. In contrast, Table 12(b) is tidy since all entries represent attributes rather than variable names.  \n",
        "\n",
        "  8. Read Section 6. What is the \"chicken-and-egg\" problem with focusing on tidy data? What does Wickham hope happens in the future with further work on the subject of data wrangling?    \n",
        "    \n",
        "  Wickham seeks a broader philosophy of data cleaning. If the tidy framework is merely about supporting specific tools, it becomes mere marketing. He envisions the tidy concept as more than just training people to use ggplot2 efficiently; it aims to establish a larger and more resilient ecosystem of ideas and tools for data science as a whole.\n",
        "  "
      ]
    },
    {
      "cell_type": "markdown",
      "id": "da879ea7-8aac-48a3-b6c2-daea56d2e072",
      "metadata": {
        "id": "da879ea7-8aac-48a3-b6c2-daea56d2e072"
      },
      "source": [
        "**Q2.** This question provides some practice cleaning variables which have common problems.\n",
        "1. Numeric variable: For `./data/airbnb_hw.csv`, clean the `Price` variable as well as you can, and explain the choices you make. How many missing values do you end up with? (Hint: What happens to the formatting when a price goes over 999 dollars, say from 675 to 1,112?)\n",
        "2. Categorical variable: For the `./data/sharks.csv` data covered in the lecture, clean the \"Type\" variable as well as you can, and explain the choices you make.\n",
        "3. Dummy variable: For the pretrial data covered in the lecture, clean the `WhetherDefendantWasReleasedPretrial` variable as well as you can, and, in particular, replace missing values with `np.nan`.\n",
        "4. Missing values, not at random: For the pretrial data covered in the lecture, clean the `ImposedSentenceAllChargeInContactEvent` variable as well as you can, and explain the choices you make. (Hint: Look at the `SentenceTypeAllChargesAtConvictionInContactEvent` variable.)"
      ]
    },
    {
      "cell_type": "markdown",
      "id": "649494cd-cfd6-4f80-992a-9994fc19e1d5",
      "metadata": {
        "id": "649494cd-cfd6-4f80-992a-9994fc19e1d5"
      },
      "source": [
        "**Q3.** Many important datasets contain a race variable, typically limited to a handful of values often including Black, White, Asian, Latino, and Indigenous. This question looks at data gathering efforts on this variable by the U.S. Federal government.\n",
        "\n",
        "1. How did the most recent US Census gather data on race?\n",
        "2. Why do we gather these data? What role do these kinds of data play in politics and society? Why does data quality matter?\n",
        "3. Please provide a constructive criticism of how the Census was conducted: What was done well? What do you think was missing? How should future large scale surveys be adjusted to best reflect the diversity of the population? Could some of the Census' good practices be adopted more widely to gather richer and more useful data?\n",
        "4. How did the Census gather data on sex and gender? Please provide a similar constructive criticism of their practices.\n",
        "5. When it comes to cleaning data, what concerns do you have about protected characteristics like sex, gender, sexual identity, or race? What challenges can you imagine arising when there are missing values? What good or bad practices might people adopt, and why?\n",
        "6. Suppose someone invented an algorithm to impute values for protected characteristics like race, gender, sex, or sexuality. What kinds of concerns would you have?"
      ]
    }
  ],
  "metadata": {
    "colab": {
      "provenance": []
    },
    "kernelspec": {
      "display_name": "Python 3 (ipykernel)",
      "language": "python",
      "name": "python3"
    },
    "language_info": {
      "codemirror_mode": {
        "name": "ipython",
        "version": 3
      },
      "file_extension": ".py",
      "mimetype": "text/x-python",
      "name": "python",
      "nbconvert_exporter": "python",
      "pygments_lexer": "ipython3",
      "version": "3.10.4"
    }
  },
  "nbformat": 4,
  "nbformat_minor": 5
}